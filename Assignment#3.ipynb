{
 "cells": [
  {
   "cell_type": "code",
   "execution_count": null,
   "metadata": {},
   "outputs": [],
   "source": [
    "a = int(input(\"Enter first value:\"))\n",
    "op = input(\"Enter operation:\")\n",
    "b = int(input(\"Enter second value:\"))\n",
    "\n",
    "\n",
    "if op == '+':\n",
    "    c = a + b\n",
    "elif op == '-':\n",
    "    c = a - b\n",
    "elif op == '*':\n",
    "    c = a * b\n",
    "elif op == '/':\n",
    "    c = a/b\n",
    "elif op == '^' or op == '**':\n",
    "    c = a**b\n",
    "else:\n",
    "    print('Wrong operation!')\n",
    "print(\"Answer=\",c)"
   ]
  },
  {
   "cell_type": "code",
   "execution_count": 14,
   "metadata": {},
   "outputs": [
    {
     "name": "stdout",
     "output_type": "stream",
     "text": [
      "Yes\n",
      "Yes\n",
      "['1', '9']\n"
     ]
    }
   ],
   "source": [
    "a = ['a','1','as','9']\n",
    "c = []\n",
    "for element in a:\n",
    "    if element.isnumeric() == True:\n",
    "        print(\"Yes\")\n",
    "        c.append(element)\n",
    "print(c)"
   ]
  },
  {
   "cell_type": "code",
   "execution_count": 22,
   "metadata": {},
   "outputs": [
    {
     "data": {
      "text/plain": [
       "{'as': 56, 'bd': 78, 'jk': 90, 'aw': 2}"
      ]
     },
     "execution_count": 22,
     "metadata": {},
     "output_type": "execute_result"
    }
   ],
   "source": [
    "a = {'as':56,\n",
    "      'bd':78,\n",
    "      'jk':90}\n",
    "a['aw'] = 2\n",
    "a"
   ]
  },
  {
   "cell_type": "code",
   "execution_count": 34,
   "metadata": {},
   "outputs": [
    {
     "name": "stdout",
     "output_type": "stream",
     "text": [
      "224\n"
     ]
    }
   ],
   "source": [
    "a = {'as':56,\n",
    "     'bd':78,\n",
    "     'jk':90}\n",
    "c=0\n",
    "\n",
    "for value in a.values():\n",
    "    c = c + value\n",
    "print(c)"
   ]
  },
  {
   "cell_type": "code",
   "execution_count": 2,
   "metadata": {},
   "outputs": [
    {
     "data": {
      "text/plain": [
       "[56, 78, 90]"
      ]
     },
     "execution_count": 2,
     "metadata": {},
     "output_type": "execute_result"
    }
   ],
   "source": [
    "a = {'as':56,\n",
    "     'bd':78,\n",
    "     'jk':90,\n",
    "     'ak':56}\n",
    "c = []\n",
    "for value in a.values():\n",
    "    if value not in c:   \n",
    "         c.append(value)        \n",
    "c"
   ]
  },
  {
   "cell_type": "code",
   "execution_count": 4,
   "metadata": {},
   "outputs": [
    {
     "data": {
      "text/plain": [
       "['as', 'bd', 'jk']"
      ]
     },
     "execution_count": 4,
     "metadata": {},
     "output_type": "execute_result"
    }
   ],
   "source": [
    "a = {'as':56,\n",
    "     'bd':78,\n",
    "     'jk':90,\n",
    "     'as':82}\n",
    "c = []\n",
    "for key in a.keys():\n",
    "    if key not in c:   \n",
    "         c.append(key)\n",
    "c"
   ]
  },
  {
   "cell_type": "code",
   "execution_count": null,
   "metadata": {},
   "outputs": [],
   "source": []
  }
 ],
 "metadata": {
  "kernelspec": {
   "display_name": "Python 3",
   "language": "python",
   "name": "python3"
  },
  "language_info": {
   "codemirror_mode": {
    "name": "ipython",
    "version": 3
   },
   "file_extension": ".py",
   "mimetype": "text/x-python",
   "name": "python",
   "nbconvert_exporter": "python",
   "pygments_lexer": "ipython3",
   "version": "3.7.4"
  }
 },
 "nbformat": 4,
 "nbformat_minor": 2
}

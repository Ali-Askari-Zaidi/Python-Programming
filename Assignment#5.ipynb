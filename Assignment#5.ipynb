{
 "cells": [
  {
   "cell_type": "code",
   "execution_count": 1,
   "metadata": {},
   "outputs": [
    {
     "name": "stdout",
     "output_type": "stream",
     "text": [
      "120\n"
     ]
    }
   ],
   "source": [
    "def factorial(a):\n",
    "    i = a\n",
    "    fact = 1\n",
    "    while(i > 0):\n",
    "        fact = fact * i\n",
    "        i = i - 1\n",
    "    return fact\n",
    "\n",
    "f = factorial(5)\n",
    "print(f)"
   ]
  },
  {
   "cell_type": "code",
   "execution_count": 2,
   "metadata": {},
   "outputs": [
    {
     "name": "stdout",
     "output_type": "stream",
     "text": [
      "Enter a string:MyName\n",
      "2\n",
      "4\n"
     ]
    }
   ],
   "source": [
    "def letter():\n",
    "    a=input(\"Enter a string:\")\n",
    "    u = 0\n",
    "    l = 0\n",
    "    for alph in a:\n",
    "        if alph.isupper() == True:\n",
    "            u = u + 1\n",
    "        elif alph.islower() == True:\n",
    "            l = l + 1\n",
    "    print(u)\n",
    "    print(l)\n",
    "letter()"
   ]
  },
  {
   "cell_type": "code",
   "execution_count": 3,
   "metadata": {},
   "outputs": [
    {
     "data": {
      "text/plain": [
       "[2, 4, 6, 8, 202]"
      ]
     },
     "execution_count": 3,
     "metadata": {},
     "output_type": "execute_result"
    }
   ],
   "source": [
    "def even(a):\n",
    "    c = []\n",
    "    for element in a:\n",
    "        if element%2 == 0:\n",
    "            c.append(element)\n",
    "    return c\n",
    "a = [1,2,3,4,5,6,7,8,99,101,202]\n",
    "even(a)"
   ]
  },
  {
   "cell_type": "code",
   "execution_count": 4,
   "metadata": {},
   "outputs": [
    {
     "name": "stdout",
     "output_type": "stream",
     "text": [
      "['m', 'a', 'r', 'a', 'm']\n",
      "['m', 'a', 'r', 'a', 'm']\n",
      "It's a palindrome\n"
     ]
    }
   ],
   "source": [
    "def palindrome(s):\n",
    "    d = list(reversed(s))\n",
    "    print(d)\n",
    "    s = list(s)\n",
    "    print(s)\n",
    "    if s == d:\n",
    "        print(\"It's a palindrome\")\n",
    "    else:\n",
    "        print(\"It's not a palindrome\")\n",
    "palindrome(\"maram\")"
   ]
  },
  {
   "cell_type": "code",
   "execution_count": 6,
   "metadata": {},
   "outputs": [
    {
     "name": "stdout",
     "output_type": "stream",
     "text": [
      "It's a prime number\n"
     ]
    }
   ],
   "source": [
    "def prime(num):\n",
    "    i = 2\n",
    "    flag = 0\n",
    "    while (num > 1 and num > i):\n",
    "        if num%i == 0:\n",
    "            flag = 1\n",
    "            break\n",
    "        i = i + 1\n",
    "    if flag == 1:\n",
    "        print(\"It's not a prime number\")\n",
    "    elif num < 2:\n",
    "        print(\"It's not a prime number\")\n",
    "    else:\n",
    "        print(\"It's a prime number\")\n",
    "prime(2)"
   ]
  },
  {
   "cell_type": "code",
   "execution_count": 14,
   "metadata": {},
   "outputs": [
    {
     "name": "stdout",
     "output_type": "stream",
     "text": [
      "Press Enter key again when the list gets over otherwise\n",
      "Enter shopped item:kd\n",
      "Enter shopped item:ks\n",
      "Enter shopped item:ka\n",
      "Enter shopped item:as\n",
      "Enter shopped item:ew\n",
      "Enter shopped item:df\n",
      "Enter shopped item:sd\n",
      "Enter shopped item:as\n",
      "Enter shopped item:gr\n",
      "Enter shopped item:\n",
      "\n",
      "List of shopped items:\n",
      "\n",
      "kd\n",
      "ks\n",
      "ka\n",
      "as\n",
      "ew\n",
      "df\n",
      "sd\n",
      "as\n",
      "gr\n"
     ]
    }
   ],
   "source": [
    "def shoplist():\n",
    "    a = \"I\"\n",
    "    c = []\n",
    "    print(\"Press Enter key again when the list gets over otherwise\")\n",
    "    while(a != ''):\n",
    "        a = input(\"Enter shopped item:\")\n",
    "        if a != '':\n",
    "            c.append(a)\n",
    "    print(\"\\nList of shopped items:\\n\")        \n",
    "    for e in c:\n",
    "        print(e)\n",
    "shoplist()"
   ]
  },
  {
   "cell_type": "code",
   "execution_count": null,
   "metadata": {},
   "outputs": [],
   "source": []
  }
 ],
 "metadata": {
  "kernelspec": {
   "display_name": "Python 3",
   "language": "python",
   "name": "python3"
  },
  "language_info": {
   "codemirror_mode": {
    "name": "ipython",
    "version": 3
   },
   "file_extension": ".py",
   "mimetype": "text/x-python",
   "name": "python",
   "nbconvert_exporter": "python",
   "pygments_lexer": "ipython3",
   "version": "3.7.4"
  }
 },
 "nbformat": 4,
 "nbformat_minor": 2
}

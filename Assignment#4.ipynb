{
 "cells": [
  {
   "cell_type": "code",
   "execution_count": 7,
   "metadata": {},
   "outputs": [
    {
     "name": "stdout",
     "output_type": "stream",
     "text": [
      "Ali Askari\n",
      "Zaidi\n",
      "23\n",
      "Karachi\n",
      "{'first_name': 'Ali Askari', 'last_name': 'Zaidi', 'age': 23, 'city': 'Karachi', 'qualification': 'Graduate'}\n",
      "{'first_name': 'Ali Askari', 'last_name': 'Zaidi', 'age': 23, 'city': 'Karachi'}\n"
     ]
    }
   ],
   "source": [
    "person = {\n",
    "    \"first_name\":\"Ali Askari\",\n",
    "    \"last_name\":\"Zaidi\",\n",
    "    \"age\":23,\n",
    "    \"city\":\"Karachi\",\n",
    "}\n",
    "print(person[\"first_name\"])\n",
    "print(person[\"last_name\"])\n",
    "print(person[\"age\"])\n",
    "print(person[\"city\"])\n",
    "\n",
    "person[\"qualification\"] = \"Graduate\"\n",
    "print(person)\n",
    "\n",
    "del person[\"qualification\"]\n",
    "print(person)"
   ]
  },
  {
   "cell_type": "code",
   "execution_count": 35,
   "metadata": {},
   "outputs": [
    {
     "data": {
      "text/plain": [
       "{'country': 'Pakistan', 'pop': '25m', 'fact': 'lights'}"
      ]
     },
     "execution_count": 35,
     "metadata": {},
     "output_type": "execute_result"
    }
   ],
   "source": [
    "cities = {\n",
    "    \"Karachi\":{\"country\":\"Pakistan\",\"pop\":\"25m\",\"fact\":\"lights\"},\n",
    "    \"Delhi\":{\"country\":\"India\",\"pop\":\"20m\",\"fact\":\"old\"},\n",
    "    \"Kabul\":{\"country\":\"Afghanistan\",\"pop\":\"9m\",\"fact\":\"capital\"}\n",
    "}\n",
    "cities[\"Karachi\"]"
   ]
  },
  {
   "cell_type": "code",
   "execution_count": null,
   "metadata": {},
   "outputs": [],
   "source": [
    "while(True):\n",
    "    age = int(input('Enter your age:'))\n",
    "    if age < 3:\n",
    "        print(\"Your ticket is Free\")\n",
    "    elif age >= 3 and age <= 12:\n",
    "        print(\"Your ticket costs $10\")\n",
    "    elif age > 12:\n",
    "        print(\"Your ticket costs $15\")"
   ]
  },
  {
   "cell_type": "code",
   "execution_count": 13,
   "metadata": {},
   "outputs": [
    {
     "name": "stdout",
     "output_type": "stream",
     "text": [
      "One of my favorite books is Alice in the Wonderland\n"
     ]
    }
   ],
   "source": [
    "def favorite_book(title):\n",
    "    print(\"One of my favorite books is \" + title)\n",
    "favorite_book(\"Alice in the Wonderland\")"
   ]
  },
  {
   "cell_type": "code",
   "execution_count": 26,
   "metadata": {},
   "outputs": [
    {
     "name": "stdout",
     "output_type": "stream",
     "text": [
      "Enter your guessed number:4\n",
      "Hint: Answer is greater than  4\n",
      "Enter your guessed number:28\n",
      "Hint: Answer is less than  28\n",
      "Enter your guessed number:23\n",
      "Hint: Answer is less than  23\n",
      "22\n"
     ]
    }
   ],
   "source": [
    "import random\n",
    "i = 1\n",
    "randInteger = random.sample(range(1, 30), 1)\n",
    "while(i<4):\n",
    "    i = i + 1\n",
    "    user_guess = int(input('Enter your guessed number:'))\n",
    "    if randInteger[0] < user_guess:\n",
    "        print(\"Hint: Answer is less than \",user_guess)\n",
    "    elif randInteger[0] > user_guess:\n",
    "        print(\"Hint: Answer is greater than \",user_guess)\n",
    "    elif user_guess == randInteger[0]:\n",
    "        print(\"Your guess is correct\")\n",
    "        break\n",
    "print(randInteger[0])"
   ]
  },
  {
   "cell_type": "code",
   "execution_count": null,
   "metadata": {},
   "outputs": [],
   "source": []
  }
 ],
 "metadata": {
  "kernelspec": {
   "display_name": "Python 3",
   "language": "python",
   "name": "python3"
  },
  "language_info": {
   "codemirror_mode": {
    "name": "ipython",
    "version": 3
   },
   "file_extension": ".py",
   "mimetype": "text/x-python",
   "name": "python",
   "nbconvert_exporter": "python",
   "pygments_lexer": "ipython3",
   "version": "3.7.4"
  }
 },
 "nbformat": 4,
 "nbformat_minor": 2
}

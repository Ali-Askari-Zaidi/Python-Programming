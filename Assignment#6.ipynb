{
 "cells": [
  {
   "cell_type": "code",
   "execution_count": 2,
   "metadata": {},
   "outputs": [
    {
     "name": "stdout",
     "output_type": "stream",
     "text": [
      "Object oriented programming is a paradigm in which real world objects are viewed as separate \n",
      "entities having there own state which is modified only by built-in procedure\n"
     ]
    }
   ],
   "source": [
    "print(\"Object oriented programming is a paradigm in which real world objects are viewed as separate \\nentities having there own state which is modified only by built-in procedure\") "
   ]
  },
  {
   "cell_type": "code",
   "execution_count": 4,
   "metadata": {},
   "outputs": [
    {
     "name": "stdout",
     "output_type": "stream",
     "text": [
      "1)The programming gets easy and efficient\n",
      "2)The class is shareable so codes can be reused\n",
      "3)The productivity of programmer increases\n",
      "4)Data is safe and secure with data abstraction\n"
     ]
    }
   ],
   "source": [
    "print(\"1)The programming gets easy and efficient\\n2)The class is shareable so codes can be reused\\n3)The productivity of programmer increases\\n4)Data is safe and secure with data abstraction\")"
   ]
  },
  {
   "cell_type": "code",
   "execution_count": 5,
   "metadata": {},
   "outputs": [
    {
     "name": "stdout",
     "output_type": "stream",
     "text": [
      "Methods are functions defined in the body of a class. They are used to define behaviour of the object\n",
      "Functions are not part of class. They can be written totally separate outside a class\n"
     ]
    }
   ],
   "source": [
    "print(\"Methods are functions defined in the body of a class. They are used to define behaviour of the object\\nFunctions are not part of class. They can be written totally separate outside a class\")"
   ]
  },
  {
   "cell_type": "code",
   "execution_count": 6,
   "metadata": {},
   "outputs": [
    {
     "name": "stdout",
     "output_type": "stream",
     "text": [
      "Class is a template or a blue-print about the capability of what an object can do\n"
     ]
    }
   ],
   "source": [
    "print(\"Class is a template or a blue-print about the capability of what an object can do\")"
   ]
  },
  {
   "cell_type": "code",
   "execution_count": 9,
   "metadata": {},
   "outputs": [
    {
     "name": "stdout",
     "output_type": "stream",
     "text": [
      "An object(instance) is an instantiation of a class. When a class is defined,\n",
      "only the description of an object is defined.\n"
     ]
    }
   ],
   "source": [
    "print(\"An object(instance) is an instantiation of a class. When a class is defined,\\nonly the description of an object is defined.\")"
   ]
  },
  {
   "cell_type": "code",
   "execution_count": 11,
   "metadata": {},
   "outputs": [
    {
     "name": "stdout",
     "output_type": "stream",
     "text": [
      "Attributes are properties of the object. It is basically some data\n"
     ]
    }
   ],
   "source": [
    "print(\"Attributes are properties of the object. It is basically some data\")"
   ]
  },
  {
   "cell_type": "code",
   "execution_count": 13,
   "metadata": {},
   "outputs": [
    {
     "name": "stdout",
     "output_type": "stream",
     "text": [
      "Behaviour is the act performed by the object. It is basically some method\n"
     ]
    }
   ],
   "source": [
    "print(\"Behaviour is the act performed by the object. It is basically some method\")"
   ]
  },
  {
   "cell_type": "code",
   "execution_count": 19,
   "metadata": {},
   "outputs": [],
   "source": [
    "class Car():\n",
    "    def __init__(self,name,model,color,number,price):\n",
    "        self.name = name\n",
    "        self.model = model\n",
    "        self.color = color\n",
    "        self.number = number\n",
    "        self.price = price\n",
    "    def disp():\n",
    "        print(name,model)\n",
    "    def gisp():\n",
    "        print(\"odfe\")\n",
    "    def odp():\n",
    "        print(\"opd\")\n",
    "o1 = Car(\"A\",\"34\",\"hg\",56,890)\n",
    "o2 = Car(\"A\",\"34\",\"hg\",56,890)\n",
    "o3 = Car(\"A\",\"34\",\"hg\",56,890)\n",
    "o4 = Car(\"A\",\"34\",\"hg\",56,890)\n",
    "o5 = Car(\"A\",\"34\",\"hg\",56,890)"
   ]
  },
  {
   "cell_type": "code",
   "execution_count": null,
   "metadata": {},
   "outputs": [],
   "source": []
  }
 ],
 "metadata": {
  "kernelspec": {
   "display_name": "Python 3",
   "language": "python",
   "name": "python3"
  },
  "language_info": {
   "codemirror_mode": {
    "name": "ipython",
    "version": 3
   },
   "file_extension": ".py",
   "mimetype": "text/x-python",
   "name": "python",
   "nbconvert_exporter": "python",
   "pygments_lexer": "ipython3",
   "version": "3.7.4"
  }
 },
 "nbformat": 4,
 "nbformat_minor": 2
}

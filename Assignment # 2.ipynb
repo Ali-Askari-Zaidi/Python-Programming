{
 "cells": [
  {
   "cell_type": "code",
   "execution_count": 2,
   "metadata": {},
   "outputs": [
    {
     "name": "stdout",
     "output_type": "stream",
     "text": [
      "Chemistry:60\n",
      "Physics:50\n",
      "Mathematics:40\n",
      "Accounting:100\n",
      "Statistics:70\n",
      "Final Grade D\n"
     ]
    }
   ],
   "source": [
    "# 1. Write a program which takes 5 inputs from user for different subject’s marks, \n",
    "#    total it and generate mark sheet using grades ?\n",
    "\n",
    "a = int(input(\"Chemistry:\"))\n",
    "b = int(input(\"Physics:\"))\n",
    "c = int(input(\"Mathematics:\"))\n",
    "d = int(input(\"Accounting:\"))\n",
    "e = int(input(\"Statistics:\"))\n",
    "\n",
    "total = (a + b + c + d + e)/500 * 100\n",
    "if total >= 0 and total < 50:\n",
    "    print(\"Final Grade U\")\n",
    "elif total >= 50 and total < 60:\n",
    "    print(\"Final Grade E\")\n",
    "elif total >= 60 and total < 70:\n",
    "    print(\"Final Grade D\")\n",
    "elif total >= 70 and total < 80:\n",
    "    print(\"Final Grade C\")\n",
    "elif total >= 80 and total < 90:\n",
    "    print(\"Final Grade B\")\n",
    "elif total >= 90 and total < 100:\n",
    "    print(\"Final Grade A\")\n",
    "else:\n",
    "    print(\"Error!\")"
   ]
  },
  {
   "cell_type": "code",
   "execution_count": 4,
   "metadata": {},
   "outputs": [
    {
     "name": "stdout",
     "output_type": "stream",
     "text": [
      "Enter number:4\n",
      "Number is Even\n"
     ]
    }
   ],
   "source": [
    "# 2. Write a program which take input from user and identify that the given\n",
    "#    number is even or odd?\n",
    "\n",
    "num = int(input(\"Enter number:\"))\n",
    "if num % 2 == 0:\n",
    "    print(\"Number is Even\")\n",
    "else:\n",
    "    print(\"Number is Odd\")"
   ]
  },
  {
   "cell_type": "code",
   "execution_count": 9,
   "metadata": {},
   "outputs": [
    {
     "name": "stdout",
     "output_type": "stream",
     "text": [
      "length: 8\n"
     ]
    }
   ],
   "source": [
    "# 3. Write a program which print the length of the list?\n",
    "\n",
    "p = [1,5,3,2,6,9,1,0]\n",
    "length = len(p)\n",
    "print(\"length:\",length)"
   ]
  },
  {
   "cell_type": "code",
   "execution_count": 10,
   "metadata": {},
   "outputs": [
    {
     "name": "stdout",
     "output_type": "stream",
     "text": [
      "sum: 27\n"
     ]
    }
   ],
   "source": [
    "# 4. Write a Python program to sum all the numeric items in a list?\n",
    "\n",
    "p = [1,5,3,2,6,9,1,0]\n",
    "s = sum(p)\n",
    "print(\"sum:\", s)"
   ]
  },
  {
   "cell_type": "code",
   "execution_count": 11,
   "metadata": {},
   "outputs": [
    {
     "name": "stdout",
     "output_type": "stream",
     "text": [
      "largest: 9\n"
     ]
    }
   ],
   "source": [
    "# 5. Write a Python program to get the largest number from a numeric list.\n",
    "\n",
    "p = [1,5,3,2,6,9,1,0]\n",
    "large = max(p)\n",
    "print(\"largest:\", large)"
   ]
  },
  {
   "cell_type": "code",
   "execution_count": 20,
   "metadata": {},
   "outputs": [
    {
     "name": "stdout",
     "output_type": "stream",
     "text": [
      "[1, 1, 2, 3]\n"
     ]
    }
   ],
   "source": [
    "# 6. Take a list, say for example this one: a = [1, 1, 2, 3, 5, 8, 13, 21, 34, 55, 89]\n",
    "#    and write a program that prints out all the elements of the list that are less than 5.\n",
    "\n",
    "a = [1, 1, 2, 3, 5, 8, 13, 21, 34, 55, 89]\n",
    "b = []\n",
    "\n",
    "if a[0] < 5:\n",
    "    b.append(a[0])\n",
    "if a[1] < 5:\n",
    "    b.append(a[1])\n",
    "if a[2] < 5:\n",
    "    b.append(a[2])\n",
    "if a[3] < 5:\n",
    "    b.append(a[3])\n",
    "if a[4] < 5:\n",
    "    b.append(a[4])\n",
    "if a[5] < 5:\n",
    "    b.append(a[5])\n",
    "if a[6] < 5:\n",
    "    b.append(a[6])\n",
    "if a[7] < 5:\n",
    "    b.append(a[7])\n",
    "if a[8] < 5:\n",
    "    b.append(a[8])\n",
    "if a[9] < 5:\n",
    "    b.append(a[9])\n",
    "if a[10] < 5:\n",
    "    b.append(a[10])\n",
    "\n",
    "print(b)        # Ye'for' loop say easily hojaata but we havent done it yet. So I did it this way."
   ]
  },
  {
   "cell_type": "code",
   "execution_count": null,
   "metadata": {},
   "outputs": [],
   "source": []
  }
 ],
 "metadata": {
  "kernelspec": {
   "display_name": "Python 3",
   "language": "python",
   "name": "python3"
  },
  "language_info": {
   "codemirror_mode": {
    "name": "ipython",
    "version": 3
   },
   "file_extension": ".py",
   "mimetype": "text/x-python",
   "name": "python",
   "nbconvert_exporter": "python",
   "pygments_lexer": "ipython3",
   "version": "3.7.4"
  }
 },
 "nbformat": 4,
 "nbformat_minor": 2
}
